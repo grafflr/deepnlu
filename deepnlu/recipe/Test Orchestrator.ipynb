{
 "cells": [
  {
   "cell_type": "code",
   "execution_count": 1,
   "id": "53a5231b",
   "metadata": {},
   "outputs": [],
   "source": [
    "import os\n",
    "import pandas as pd\n",
    "from pandas import DataFrame\n",
    "from pprint import pprint\n",
    "\n",
    "import logging\n",
    "for microservice in ['datablock', 'accipio', 'erogito', 'mutato', 'deepnlu']:\n",
    "    logging.getLogger(microservice).setLevel(logging.ERROR)\n",
    "\n",
    "from deepnlu.bp import DeepNluAPI\n",
    "api = DeepNluAPI()\n",
    "\n",
    "\n",
    "def handle_text(input_text: str) -> DataFrame:\n",
    "    results = api.handle_text(input_text, ontologies=['ontologica', 'questions', 'demographics'])\n",
    "    return api.to_csv(results, include_position=False)\n"
   ]
  },
  {
   "cell_type": "code",
   "execution_count": 2,
   "id": "dc0de188",
   "metadata": {},
   "outputs": [
    {
     "data": {
      "text/plain": [
       "[{'Canon': 'what_is_your_question',\n",
       "  'Text': 'what is your ',\n",
       "  'Ontology': 'questions',\n",
       "  'Sentence': 'what is your age??'},\n",
       " {'Canon': 'age',\n",
       "  'Text': 'age',\n",
       "  'Ontology': 'demographics',\n",
       "  'Sentence': 'what is your age??'}]"
      ]
     },
     "execution_count": 2,
     "metadata": {},
     "output_type": "execute_result"
    }
   ],
   "source": [
    "handle_text(\"what is your age??\")"
   ]
  },
  {
   "cell_type": "code",
   "execution_count": null,
   "id": "8024a8b1",
   "metadata": {},
   "outputs": [],
   "source": []
  }
 ],
 "metadata": {
  "interpreter": {
   "hash": "203c90eec0b6dc83bcd3c50c85f74434831e0e823c8204bfb6b94775667156d4"
  },
  "kernelspec": {
   "display_name": "Python 3.8.5 ('deepnlu-0TPUikj6-py3.8')",
   "language": "python",
   "name": "python3"
  },
  "language_info": {
   "codemirror_mode": {
    "name": "ipython",
    "version": 3
   },
   "file_extension": ".py",
   "mimetype": "text/x-python",
   "name": "python",
   "nbconvert_exporter": "python",
   "pygments_lexer": "ipython3",
   "version": "3.8.5"
  }
 },
 "nbformat": 4,
 "nbformat_minor": 5
}

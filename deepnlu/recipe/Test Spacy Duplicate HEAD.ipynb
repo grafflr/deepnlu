{
 "cells": [
  {
   "cell_type": "code",
   "execution_count": null,
   "id": "1c846231",
   "metadata": {},
   "outputs": [],
   "source": []
  },
  {
   "cell_type": "code",
   "execution_count": 28,
   "id": "f89c93ca",
   "metadata": {},
   "outputs": [
    {
     "name": "stdout",
     "output_type": "stream",
     "text": [
      "0#0#2114572871053212045 1#9#2156042093276175838\n",
      "1#9#2156042093276175838 2#16#857644632819551768\n",
      "2#16#14692702688101715474 2#16#857644632819551768\n",
      "3#21#2114572871053212045 4#30#302307280803277588\n",
      "4#30#16443208345299135245 2#16#857644632819551768\n",
      "5#39#3002984154512732771 2#16#857644632819551768\n",
      "6#42#2114572871053212045 7#51#850856512193749038\n",
      "7#51#12380071558262218793 5#39#697141145299038820\n"
     ]
    }
   ],
   "source": [
    "import spacy\n",
    "\n",
    "nlp = spacy.load(\"en_core_web_sm\")\n",
    "doc = nlp(\"clinical trials have clinical outcomes in clinical times\")\n",
    "for token in doc:\n",
    "    print(f\"{token.i}#{token.idx}#{token.orth}\", f\"{token.head.i}#{token.head.idx}#{hash(token.head.orth)}\")"
   ]
  },
  {
   "cell_type": "code",
   "execution_count": null,
   "id": "5d3d98e3",
   "metadata": {},
   "outputs": [],
   "source": []
  }
 ],
 "metadata": {
  "kernelspec": {
   "display_name": "graffyter",
   "language": "python",
   "name": "graffyter"
  },
  "language_info": {
   "codemirror_mode": {
    "name": "ipython",
    "version": 3
   },
   "file_extension": ".py",
   "mimetype": "text/x-python",
   "name": "python",
   "nbconvert_exporter": "python",
   "pygments_lexer": "ipython3",
   "version": "3.8.5"
  }
 },
 "nbformat": 4,
 "nbformat_minor": 5
}

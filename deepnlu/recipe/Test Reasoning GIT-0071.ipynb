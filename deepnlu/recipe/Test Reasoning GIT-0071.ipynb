{
 "cells": [
  {
   "cell_type": "code",
   "execution_count": 1,
   "id": "987594b7",
   "metadata": {},
   "outputs": [],
   "source": [
    "import pprint\n",
    "from spacy import displacy\n",
    "from jupyter import RunJupyterDisplacy\n",
    "from baseblock import Stopwatch\n",
    "runner = RunJupyterDisplacy('nursing').process"
   ]
  },
  {
   "cell_type": "code",
   "execution_count": 2,
   "id": "4bb13c41",
   "metadata": {},
   "outputs": [
    {
     "data": {
      "text/plain": [
       "'Allina WestHealth’s ER, Urgent Care Set To Close Temporarily As Nurses Go On Strike Over Fair Pay'"
      ]
     },
     "execution_count": 2,
     "metadata": {},
     "output_type": "execute_result"
    }
   ],
   "source": [
    "input_text = \"\"\"\n",
    "\n",
    "Allina WestHealth’s ER, Urgent Care Set To Close Temporarily As Nurses Go On Strike Over Fair Pay\n",
    "\n",
    "\"\"\".strip()\n",
    "\n",
    "input_text"
   ]
  },
  {
   "cell_type": "code",
   "execution_count": 3,
   "id": "c91eaac2",
   "metadata": {},
   "outputs": [
    {
     "name": "stdout",
     "output_type": "stream",
     "text": [
      "839.07ms\n"
     ]
    }
   ],
   "source": [
    "sw = Stopwatch()\n",
    "svcresult, displacy_results, options = runner(input_text)\n",
    "print (str(sw))"
   ]
  },
  {
   "cell_type": "code",
   "execution_count": 4,
   "id": "6235a062",
   "metadata": {},
   "outputs": [
    {
     "data": {
      "text/html": [
       "<span class=\"tex2jax_ignore\"><div class=\"entities\" style=\"line-height: 2.5; direction: ltr\">Allina WestHealth’s ER, \n",
       "<mark class=\"entity\" style=\"background: #eac32a; padding: 0.45em 0.6em; margin: 0 0.25em; line-height: 1; border-radius: 0.35em;\">\n",
       "    Urgent Care\n",
       "    <span style=\"font-size: 0.8em; font-weight: bold; line-height: 1; border-radius: 0.35em; vertical-align: middle; margin-left: 0.5rem\">FAC</span>\n",
       "</mark>\n",
       " Set To Close Temporarily As \n",
       "<mark class=\"entity\" style=\"background: #77aaff; padding: 0.45em 0.6em; margin: 0 0.25em; line-height: 1; border-radius: 0.35em;\">\n",
       "    Nurses\n",
       "    <span style=\"font-size: 0.8em; font-weight: bold; line-height: 1; border-radius: 0.35em; vertical-align: middle; margin-left: 0.5rem\">AGENT</span>\n",
       "</mark>\n",
       " Go On \n",
       "<mark class=\"entity\" style=\"background: #e69138; padding: 0.45em 0.6em; margin: 0 0.25em; line-height: 1; border-radius: 0.35em;\">\n",
       "    Strike\n",
       "    <span style=\"font-size: 0.8em; font-weight: bold; line-height: 1; border-radius: 0.35em; vertical-align: middle; margin-left: 0.5rem\">EVENT</span>\n",
       "</mark>\n",
       " Over \n",
       "<mark class=\"entity\" style=\"background: #e69138; padding: 0.45em 0.6em; margin: 0 0.25em; line-height: 1; border-radius: 0.35em;\">\n",
       "    Fair Pay\n",
       "    <span style=\"font-size: 0.8em; font-weight: bold; line-height: 1; border-radius: 0.35em; vertical-align: middle; margin-left: 0.5rem\">EVENT</span>\n",
       "</mark>\n",
       "</div></span>"
      ],
      "text/plain": [
       "<IPython.core.display.HTML object>"
      ]
     },
     "metadata": {},
     "output_type": "display_data"
    }
   ],
   "source": [
    "for item in displacy_results:\n",
    "    html = displacy.render(item, style=\"ent\", manual=True, options=options)"
   ]
  },
  {
   "cell_type": "code",
   "execution_count": null,
   "id": "ea968053",
   "metadata": {},
   "outputs": [],
   "source": []
  }
 ],
 "metadata": {
  "kernelspec": {
   "display_name": "graffyter",
   "language": "python",
   "name": "graffyter"
  },
  "language_info": {
   "codemirror_mode": {
    "name": "ipython",
    "version": 3
   },
   "file_extension": ".py",
   "mimetype": "text/x-python",
   "name": "python",
   "nbconvert_exporter": "python",
   "pygments_lexer": "ipython3",
   "version": "3.8.5"
  }
 },
 "nbformat": 4,
 "nbformat_minor": 5
}
